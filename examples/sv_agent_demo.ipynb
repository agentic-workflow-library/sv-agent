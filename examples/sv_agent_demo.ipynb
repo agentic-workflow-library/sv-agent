{
 "cells": [
  {
   "cell_type": "markdown",
   "metadata": {},
   "source": [
    "# SV-Agent Demo Notebook\n",
    "\n",
    "This notebook demonstrates how to use SV-Agent as a domain-specific agent for structural variant analysis."
   ]
  },
  {
   "cell_type": "code",
   "execution_count": null,
   "metadata": {},
   "outputs": [],
   "source": [
    "# Import SV-Agent\n",
    "from sv_agent import create_agent\n",
    "\n",
    "# Create the agent\n",
    "agent = create_agent()"
   ]
  },
  {
   "cell_type": "markdown",
   "metadata": {},
   "source": [
    "## 1. Getting Help\n",
    "\n",
    "Let's start by seeing what our agent can do:"
   ]
  },
  {
   "cell_type": "code",
   "execution_count": null,
   "metadata": {},
   "outputs": [],
   "source": [
    "# Show available commands\n",
    "agent.help()"
   ]
  },
  {
   "cell_type": "markdown",
   "metadata": {},
   "source": [
    "## 2. Asking Questions\n",
    "\n",
    "The agent has extensive knowledge about structural variant analysis:"
   ]
  },
  {
   "cell_type": "code",
   "execution_count": null,
   "metadata": {},
   "outputs": [],
   "source": [
    "# Ask about structural variants\n",
    "agent.ask(\"What are structural variants?\")"
   ]
  },
  {
   "cell_type": "code",
   "execution_count": null,
   "metadata": {},
   "outputs": [],
   "source": [
    "# Ask about coverage requirements\n",
    "agent.ask(\"What coverage do I need for SV detection?\")"
   ]
  },
  {
   "cell_type": "code",
   "execution_count": null,
   "metadata": {},
   "outputs": [],
   "source": [
    "# Ask about specific modules\n",
    "agent.ask(\"What does Module00a do?\")"
   ]
  },
  {
   "cell_type": "markdown",
   "metadata": {},
   "source": [
    "## 3. Exploring GATK-SV Components"
   ]
  },
  {
   "cell_type": "code",
   "execution_count": null,
   "metadata": {},
   "outputs": [],
   "source": [
    "# Show all GATK-SV modules\n",
    "agent.show_modules()"
   ]
  },
  {
   "cell_type": "code",
   "execution_count": null,
   "metadata": {},
   "outputs": [],
   "source": [
    "# Show SV types\n",
    "agent.show_sv_types()"
   ]
  },
  {
   "cell_type": "code",
   "execution_count": null,
   "metadata": {},
   "outputs": [],
   "source": [
    "# Get detailed explanation of a module\n",
    "agent.explain(\"Module00b\")"
   ]
  },
  {
   "cell_type": "markdown",
   "metadata": {},
   "source": [
    "## 4. Best Practices"
   ]
  },
  {
   "cell_type": "code",
   "execution_count": null,
   "metadata": {},
   "outputs": [],
   "source": [
    "# Get best practices for sample selection\n",
    "agent.best_practices(\"sample selection\")"
   ]
  },
  {
   "cell_type": "code",
   "execution_count": null,
   "metadata": {},
   "outputs": [],
   "source": [
    "# Get filtering recommendations\n",
    "agent.ask(\"What filtering thresholds should I use?\")"
   ]
  },
  {
   "cell_type": "markdown",
   "metadata": {},
   "source": [
    "## 5. Configuration and Validation"
   ]
  },
  {
   "cell_type": "code",
   "execution_count": null,
   "metadata": {},
   "outputs": [],
   "source": [
    "# Create a sample configuration\n",
    "config = agent.create_sample_config(num_samples=5)"
   ]
  },
  {
   "cell_type": "code",
   "execution_count": null,
   "metadata": {},
   "outputs": [],
   "source": [
    "# Validate the configuration\n",
    "agent.validate_config(config)"
   ]
  },
  {
   "cell_type": "markdown",
   "metadata": {},
   "source": [
    "## 6. Workflow Conversion"
   ]
  },
  {
   "cell_type": "code",
   "execution_count": null,
   "metadata": {},
   "outputs": [],
   "source": [
    "# Convert a specific module to CWL\n",
    "agent.convert_module(\"Module00a\", output_dir=\"cwl_demo\")"
   ]
  },
  {
   "cell_type": "code",
   "execution_count": null,
   "metadata": {},
   "outputs": [],
   "source": [
    "# Analyze workflow structure\n",
    "agent.analyze_workflow(\"Module00aSampleQC\")"
   ]
  },
  {
   "cell_type": "markdown",
   "metadata": {},
   "source": [
    "## 7. Troubleshooting"
   ]
  },
  {
   "cell_type": "code",
   "execution_count": null,
   "metadata": {},
   "outputs": [],
   "source": [
    "# Get troubleshooting help\n",
    "agent.troubleshoot(\"low variant calls\")"
   ]
  },
  {
   "cell_type": "code",
   "execution_count": null,
   "metadata": {},
   "outputs": [],
   "source": [
    "# Ask about memory issues\n",
    "agent.ask(\"How do I fix memory errors in Module00b?\")"
   ]
  },
  {
   "cell_type": "markdown",
   "metadata": {},
   "source": [
    "## 8. Interactive Chat\n",
    "\n",
    "You can also have a conversation with the agent:"
   ]
  },
  {
   "cell_type": "code",
   "execution_count": null,
   "metadata": {},
   "outputs": [],
   "source": [
    "# Start an interactive chat session\n",
    "# Type 'exit' to end the chat\n",
    "# agent.chat()"
   ]
  },
  {
   "cell_type": "markdown",
   "metadata": {},
   "source": [
    "## 9. Running Analysis\n",
    "\n",
    "To actually run GATK-SV analysis:"
   ]
  },
  {
   "cell_type": "code",
   "execution_count": null,
   "metadata": {},
   "outputs": [],
   "source": [
    "# Get instructions for running the pipeline\n",
    "agent.ask(\"How do I run GATK-SV on my samples?\")"
   ]
  },
  {
   "cell_type": "code",
   "execution_count": null,
   "metadata": {},
   "outputs": [],
   "source": [
    "# Process a batch (mock example)\n",
    "# results = agent.agent.process_batch(config)\n",
    "# print(results)"
   ]
  },
  {
   "cell_type": "markdown",
   "metadata": {},
   "source": [
    "## Summary\n",
    "\n",
    "SV-Agent provides:\n",
    "- **Domain expertise** in structural variant analysis\n",
    "- **Interactive help** through natural language\n",
    "- **Workflow conversion** from WDL to CWL\n",
    "- **Best practices** and troubleshooting guidance\n",
    "- **Configuration validation** and sample preparation\n",
    "\n",
    "The agent can be used from:\n",
    "- Command line: `sv-agent chat`\n",
    "- Python scripts: `from sv_agent import SVAgent`\n",
    "- Jupyter notebooks: `from sv_agent import create_agent`"
   ]
  }
 ],
 "metadata": {
  "kernelspec": {
   "display_name": "Python 3",
   "language": "python",
   "name": "python3"
  },
  "language_info": {
   "codemirror_mode": {
    "name": "ipython",
    "version": 3
   },
   "file_extension": ".py",
   "mimetype": "text/x-python",
   "name": "python",
   "nbconvert_exporter": "python",
   "pygments_lexer": "ipython3",
   "version": "3.8.0"
  }
 },
 "nbformat": 4,
 "nbformat_minor": 4
}