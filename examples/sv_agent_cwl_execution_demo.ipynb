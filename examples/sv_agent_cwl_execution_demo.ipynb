{
 "cells": [
  {
   "cell_type": "markdown",
   "metadata": {},
   "source": [
    "# SV-Agent CWL Execution Demo\n",
    "\n",
    "This notebook demonstrates how sv-agent executes CWL workflows for GATK-SV structural variant analysis.\n",
    "\n",
    "## Key Concept\n",
    "\n",
    "sv-agent's main purpose is to **execute CWL workflows** for running GATK-SV analysis on genomic data. It:\n",
    "1. Converts GATK-SV WDL workflows to CWL format\n",
    "2. Executes the CWL workflows using its integrated engine\n",
    "3. Processes BAM/CRAM files to detect structural variants\n",
    "4. Generates VCF outputs with SV calls"
   ]
  },
  {
   "cell_type": "code",
   "execution_count": null,
   "metadata": {},
   "outputs": [],
   "source": [
    "# Import required modules\n",
    "from sv_agent import SVAgent\n",
    "from sv_agent.chat import SVAgentChat\n",
    "import yaml\n",
    "import json\n",
    "from pathlib import Path"
   ]
  },
  {
   "cell_type": "markdown",
   "metadata": {},
   "source": [
    "## 1. Understanding sv-agent's Execution Capabilities"
   ]
  },
  {
   "cell_type": "code",
   "execution_count": null,
   "metadata": {},
   "outputs": [],
   "source": [
    "# Initialize chat to ask about execution\n",
    "agent = SVAgent()\n",
    "chat = SVAgentChat(agent, llm_provider=\"none\")\n",
    "\n",
    "# Ask about CWL execution\n",
    "response = chat.chat(\"Can you execute CWL workflows?\")\n",
    "print(\"Q: Can you execute CWL workflows?\")\n",
    "print(\"\\nA:\", response)"
   ]
  },
  {
   "cell_type": "markdown",
   "metadata": {},
   "source": [
    "## 2. Step 1: Convert WDL to CWL\n",
    "\n",
    "Before we can execute, we need to convert GATK-SV WDL workflows to CWL:"
   ]
  },
  {
   "cell_type": "code",
   "execution_count": null,
   "metadata": {},
   "outputs": [],
   "source": [
    "# Example conversion command\n",
    "print(\"Convert Module00a (GatherSampleEvidence) to CWL:\")\n",
    "print(\"\\nCommand:\")\n",
    "print(\"sv-agent convert -o cwl_output -m Module00a\")\n",
    "\n",
    "print(\"\\nThis will generate:\")\n",
    "print(\"- cwl_output/GatherSampleEvidence.cwl\")\n",
    "print(\"- cwl_output/tools/*.cwl (individual tool definitions)\")\n",
    "print(\"- cwl_output/types/*.cwl (type definitions)\")"
   ]
  },
  {
   "cell_type": "markdown",
   "metadata": {},
   "source": [
    "## 3. Step 2: Prepare Input Configuration\n",
    "\n",
    "CWL workflows require input parameters in YAML format:"
   ]
  },
  {
   "cell_type": "code",
   "execution_count": null,
   "metadata": {},
   "outputs": [],
   "source": [
    "# Example input configuration for Module00a\n",
    "module00a_inputs = {\n",
    "    \"bam_file\": {\n",
    "        \"class\": \"File\",\n",
    "        \"path\": \"/data/samples/sample001.bam\",\n",
    "        \"secondaryFiles\": [\n",
    "            {\n",
    "                \"class\": \"File\",\n",
    "                \"path\": \"/data/samples/sample001.bam.bai\"\n",
    "            }\n",
    "        ]\n",
    "    },\n",
    "    \"reference\": {\n",
    "        \"class\": \"File\",\n",
    "        \"path\": \"/data/reference/hg38.fa\",\n",
    "        \"secondaryFiles\": [\n",
    "            {\n",
    "                \"class\": \"File\",\n",
    "                \"path\": \"/data/reference/hg38.fa.fai\"\n",
    "            },\n",
    "            {\n",
    "                \"class\": \"File\",\n",
    "                \"path\": \"/data/reference/hg38.dict\"\n",
    "            }\n",
    "        ]\n",
    "    },\n",
    "    \"sample_id\": \"SAMPLE001\",\n",
    "    \"sex\": \"female\",\n",
    "    \"primary_contigs\": [\"chr1\", \"chr2\", \"chr3\", \"chr4\", \"chr5\"],\n",
    "    \"min_mapq\": 20,\n",
    "    \"min_base_qual\": 20\n",
    "}\n",
    "\n",
    "print(\"Module00a input configuration:\")\n",
    "print(yaml.dump(module00a_inputs, default_flow_style=False))"
   ]
  },
  {
   "cell_type": "code",
   "execution_count": null,
   "metadata": {},
   "outputs": [],
   "source": [
    "# Save to file (in practice)\n",
    "input_file = \"module00a_inputs.yaml\"\n",
    "print(f\"Save this configuration to: {input_file}\")\n",
    "print(\"\\nThen execute with:\")\n",
    "print(f\"sv-agent run cwl_output/GatherSampleEvidence.cwl {input_file}\")"
   ]
  },
  {
   "cell_type": "markdown",
   "metadata": {},
   "source": [
    "## 4. Step 3: Execute CWL Workflow\n",
    "\n",
    "Now we can run the CWL workflow with sv-agent:"
   ]
  },
  {
   "cell_type": "code",
   "execution_count": null,
   "metadata": {},
   "outputs": [],
   "source": [
    "# Ask about execution\n",
    "response = chat.chat(\"What happens when I run 'sv-agent run' command?\")\n",
    "print(\"Q: What happens when I run 'sv-agent run' command?\")\n",
    "print(\"\\nA:\", response[:600] + \"...\")"
   ]
  },
  {
   "cell_type": "markdown",
   "metadata": {},
   "source": [
    "## 5. Batch Processing Example\n",
    "\n",
    "For cohort analysis, we need to process multiple samples:"
   ]
  },
  {
   "cell_type": "code",
   "execution_count": null,
   "metadata": {},
   "outputs": [],
   "source": [
    "# Batch input configuration\n",
    "batch_inputs = {\n",
    "    \"samples\": [\n",
    "        {\n",
    "            \"sample_id\": \"SAMPLE001\",\n",
    "            \"bam\": {\"class\": \"File\", \"path\": \"/data/samples/sample001.bam\"},\n",
    "            \"sex\": \"female\"\n",
    "        },\n",
    "        {\n",
    "            \"sample_id\": \"SAMPLE002\",\n",
    "            \"bam\": {\"class\": \"File\", \"path\": \"/data/samples/sample002.bam\"},\n",
    "            \"sex\": \"male\"\n",
    "        },\n",
    "        {\n",
    "            \"sample_id\": \"SAMPLE003\",\n",
    "            \"bam\": {\"class\": \"File\", \"path\": \"/data/samples/sample003.bam\"},\n",
    "            \"sex\": \"female\"\n",
    "        }\n",
    "    ],\n",
    "    \"reference\": {\n",
    "        \"class\": \"File\",\n",
    "        \"path\": \"/data/reference/hg38.fa\"\n",
    "    },\n",
    "    \"batch_id\": \"BATCH001\",\n",
    "    \"output_dir\": \"/results/batch001\"\n",
    "}\n",
    "\n",
    "print(\"Batch processing configuration:\")\n",
    "print(json.dumps(batch_inputs, indent=2)[:500] + \"...\")"
   ]
  },
  {
   "cell_type": "markdown",
   "metadata": {},
   "source": [
    "## 6. Complete Pipeline Execution\n",
    "\n",
    "To run the full GATK-SV pipeline:"
   ]
  },
  {
   "cell_type": "code",
   "execution_count": null,
   "metadata": {},
   "outputs": [],
   "source": [
    "# Full pipeline workflow\n",
    "print(\"Complete GATK-SV Pipeline Execution:\")\n",
    "print(\"=\" * 50)\n",
    "print()\n",
    "print(\"1. Convert all modules:\")\n",
    "print(\"   sv-agent convert -o cwl_output\")\n",
    "print()\n",
    "print(\"2. Prepare batch configuration (batch_inputs.yaml)\")\n",
    "print()\n",
    "print(\"3. Run the complete pipeline:\")\n",
    "print(\"   sv-agent run cwl_output/GATKSVPipelineBatch.cwl batch_inputs.yaml\")\n",
    "print()\n",
    "print(\"This will execute all modules in sequence:\")\n",
    "print(\"- Module00a-c: Evidence gathering\")\n",
    "print(\"- Module01: Clustering\")\n",
    "print(\"- Module02: Metrics generation\")\n",
    "print(\"- Module03: Filtering\")\n",
    "print(\"- Module04: Genotyping\")\n",
    "print(\"- Module05: Cohort VCF creation\")\n",
    "print(\"- Module06: Annotation\")"
   ]
  },
  {
   "cell_type": "markdown",
   "metadata": {},
   "source": [
    "## 7. Monitoring Execution"
   ]
  },
  {
   "cell_type": "code",
   "execution_count": null,
   "metadata": {},
   "outputs": [],
   "source": [
    "# Ask about monitoring\n",
    "response = chat.chat(\"How can I monitor the progress of my CWL workflow execution?\")\n",
    "print(\"Q: How can I monitor the progress of my CWL workflow execution?\")\n",
    "print(\"\\nExpected features:\")\n",
    "print(\"- Real-time progress updates\")\n",
    "print(\"- Log files for each step\")\n",
    "print(\"- Resource usage statistics\")\n",
    "print(\"- Error reporting\")\n",
    "print(\"- Intermediate file tracking\")"
   ]
  },
  {
   "cell_type": "markdown",
   "metadata": {},
   "source": [
    "## 8. Output Files and Results"
   ]
  },
  {
   "cell_type": "code",
   "execution_count": null,
   "metadata": {},
   "outputs": [],
   "source": [
    "# Expected outputs\n",
    "print(\"Expected Output Files from GATK-SV Pipeline:\")\n",
    "print(\"=\" * 50)\n",
    "\n",
    "outputs = {\n",
    "    \"Module00a\": [\n",
    "        \"manta.vcf.gz - Manta SV calls\",\n",
    "        \"melt.vcf.gz - Mobile element insertions\",\n",
    "        \"sample.PE.txt - Paired-end evidence\",\n",
    "        \"sample.SR.txt - Split-read evidence\",\n",
    "        \"sample.RD.txt - Read depth profile\"\n",
    "    ],\n",
    "    \"Module00c\": [\n",
    "        \"batch.PE.txt - Merged PE evidence\",\n",
    "        \"batch.SR.txt - Merged SR evidence\",\n",
    "        \"cnmops.vcf.gz - CNV calls\"\n",
    "    ],\n",
    "    \"Module04\": [\n",
    "        \"genotyped.vcf.gz - Genotyped variants\",\n",
    "        \"genotype_qualities.txt - GQ scores\"\n",
    "    ],\n",
    "    \"Final Output\": [\n",
    "        \"cohort.annotated.vcf.gz - Final annotated VCF\",\n",
    "        \"cohort.stats.txt - Cohort statistics\",\n",
    "        \"qc_report.html - QC summary\"\n",
    "    ]\n",
    "}\n",
    "\n",
    "for module, files in outputs.items():\n",
    "    print(f\"\\n{module}:\")\n",
    "    for f in files:\n",
    "        print(f\"  - {f}\")"
   ]
  },
  {
   "cell_type": "markdown",
   "metadata": {},
   "source": [
    "## 9. Real-World Example: Trio Analysis"
   ]
  },
  {
   "cell_type": "code",
   "execution_count": null,
   "metadata": {},
   "outputs": [],
   "source": [
    "# Trio configuration\n",
    "trio_config = {\n",
    "    \"samples\": [\n",
    "        {\n",
    "            \"sample_id\": \"CHILD001\",\n",
    "            \"bam\": {\"class\": \"File\", \"path\": \"/data/trio/child.bam\"},\n",
    "            \"sex\": \"male\",\n",
    "            \"family_id\": \"FAM001\",\n",
    "            \"father_id\": \"FATHER001\",\n",
    "            \"mother_id\": \"MOTHER001\"\n",
    "        },\n",
    "        {\n",
    "            \"sample_id\": \"FATHER001\",\n",
    "            \"bam\": {\"class\": \"File\", \"path\": \"/data/trio/father.bam\"},\n",
    "            \"sex\": \"male\",\n",
    "            \"family_id\": \"FAM001\"\n",
    "        },\n",
    "        {\n",
    "            \"sample_id\": \"MOTHER001\",\n",
    "            \"bam\": {\"class\": \"File\", \"path\": \"/data/trio/mother.bam\"},\n",
    "            \"sex\": \"female\",\n",
    "            \"family_id\": \"FAM001\"\n",
    "        }\n",
    "    ],\n",
    "    \"reference\": {\"class\": \"File\", \"path\": \"/data/reference/hg38.fa\"},\n",
    "    \"enable_denovo_calling\": True,\n",
    "    \"output_dir\": \"/results/trio_analysis\"\n",
    "}\n",
    "\n",
    "print(\"Trio Analysis Configuration:\")\n",
    "print(yaml.dump(trio_config, default_flow_style=False))\n",
    "\n",
    "print(\"\\nExpected de novo SV detection:\")\n",
    "print(\"- 5-10 de novo SVs per trio\")\n",
    "print(\"- Higher confidence with trio data\")\n",
    "print(\"- Inheritance pattern validation\")"
   ]
  },
  {
   "cell_type": "markdown",
   "metadata": {},
   "source": [
    "## 10. Performance Considerations"
   ]
  },
  {
   "cell_type": "code",
   "execution_count": null,
   "metadata": {},
   "outputs": [],
   "source": [
    "# Ask about performance\n",
    "response = chat.chat(\"What are the computational requirements for running 100 samples?\")\n",
    "print(\"Q: What are the computational requirements for running 100 samples?\")\n",
    "print(\"\\nA:\", response)\n",
    "\n",
    "# Performance tips\n",
    "print(\"\\n\" + \"=\" * 50)\n",
    "print(\"Performance Optimization Tips:\")\n",
    "print(\"- Use scatter-gather for parallelization\")\n",
    "print(\"- Allocate sufficient memory for Java tools\")\n",
    "print(\"- Use SSD storage for temporary files\")\n",
    "print(\"- Enable caching for reference files\")\n",
    "print(\"- Monitor resource usage during execution\")"
   ]
  },
  {
   "cell_type": "markdown",
   "metadata": {},
   "source": [
    "## Summary\n",
    "\n",
    "sv-agent provides a complete solution for running GATK-SV analysis:\n",
    "\n",
    "1. **Converts** WDL workflows to CWL format\n",
    "2. **Executes** CWL workflows with integrated engine\n",
    "3. **Processes** genomic data (BAM/CRAM files)\n",
    "4. **Detects** structural variants across the genome\n",
    "5. **Generates** annotated VCF files with SV calls\n",
    "\n",
    "### Key Commands Summary\n",
    "\n",
    "```bash\n",
    "# Convert WDL to CWL\n",
    "sv-agent convert -o cwl_output -m Module00a\n",
    "\n",
    "# Run single module\n",
    "sv-agent run cwl_output/GatherSampleEvidence.cwl inputs.yaml\n",
    "\n",
    "# Run complete pipeline\n",
    "sv-agent run cwl_output/GATKSVPipelineBatch.cwl batch_inputs.yaml\n",
    "\n",
    "# Get help\n",
    "sv-agent chat\n",
    "```\n",
    "\n",
    "### Next Steps\n",
    "\n",
    "1. Prepare your BAM/CRAM files\n",
    "2. Create input YAML configurations\n",
    "3. Convert necessary modules to CWL\n",
    "4. Execute the workflow with sv-agent\n",
    "5. Analyze the output VCF files"
   ]
  }
 ],
 "metadata": {
  "kernelspec": {
   "display_name": "Python 3",
   "language": "python",
   "name": "python3"
  },
  "language_info": {
   "codemirror_mode": {
    "name": "ipython",
    "version": 3
   },
   "file_extension": ".py",
   "mimetype": "text/x-python",
   "name": "python",
   "nbconvert_exporter": "python",
   "pygments_lexer": "ipython3",
   "version": "3.8.0"
  }
 },
 "nbformat": 4,
 "nbformat_minor": 4
}