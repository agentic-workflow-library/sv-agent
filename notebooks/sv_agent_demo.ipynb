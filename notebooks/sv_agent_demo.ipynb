{
 "cells": [
  {
   "cell_type": "markdown",
   "metadata": {},
   "source": [
    "# SV-Agent Jupyter Demo\n",
    "\n",
    "This notebook demonstrates how to use sv-agent in Jupyter for:\n",
    "1. Converting GATK-SV WDL workflows to CWL\n",
    "2. Analyzing workflow structure\n",
    "3. Using the chat interface programmatically\n",
    "4. Batch processing configurations"
   ]
  },
  {
   "cell_type": "markdown",
   "metadata": {},
   "source": "## Installation\n\nIf you're starting fresh on a new Linux environment, first clone and install sv-agent:\n\n```bash\n# Clone the repository with submodules\ngit clone --recursive https://github.com/yourusername/sv-agent.git\ncd sv-agent\n\n# Run the setup script\n./setup.sh\n\n# Or manually:\ngit submodule update --init --recursive\npip install -e .\npip install -e submodules/awlkit/\n```\n\n## Setup\n\nFor existing installations, ensure sv-agent is installed:",
   "outputs": []
  },
  {
   "cell_type": "code",
   "execution_count": null,
   "metadata": {},
   "outputs": [],
   "source": [
    "# Install sv-agent if not already installed\n",
    "import sys\n",
    "!{sys.executable} -m pip install -e /workspaces/sv-agent\n",
    "!{sys.executable} -m pip install -e /workspaces/sv-agent/submodules/awlkit/"
   ]
  },
  {
   "cell_type": "code",
   "execution_count": null,
   "metadata": {},
   "outputs": [],
   "source": [
    "# Import required libraries\n",
    "from sv_agent import SVAgent, SVAgentChat\n",
    "from sv_agent.knowledge import SVKnowledgeBase\n",
    "import json\n",
    "from pathlib import Path"
   ]
  },
  {
   "cell_type": "markdown",
   "metadata": {},
   "source": [
    "## 1. Convert GATK-SV Workflows to CWL"
   ]
  },
  {
   "cell_type": "code",
   "execution_count": null,
   "metadata": {},
   "outputs": [],
   "source": [
    "# Initialize the agent\n",
    "agent = SVAgent()\n",
    "\n",
    "# Convert specific modules\n",
    "output_dir = \"cwl_output\"\n",
    "modules = [\"GatherSampleEvidence\", \"EvidenceQC\"]\n",
    "\n",
    "print(f\"Converting modules: {modules}\")\n",
    "results = agent.convert_gatksv_to_cwl(\n",
    "    output_dir=output_dir,\n",
    "    modules=modules,\n",
    "    validate=False  # Set to True to validate CWL output\n",
    ")\n",
    "\n",
    "# Display results\n",
    "for result in results:\n",
    "    status = \"✓\" if result['success'] else \"✗\"\n",
    "    print(f\"{status} {result['module']}: {result.get('output_path', result.get('error'))}\")"
   ]
  },
  {
   "cell_type": "markdown",
   "metadata": {},
   "source": [
    "## 2. Analyze Workflow Structure"
   ]
  },
  {
   "cell_type": "code",
   "execution_count": null,
   "metadata": {},
   "outputs": [],
   "source": [
    "# Analyze a specific workflow\n",
    "workflow_name = \"GATKSVPipelineBatch\"\n",
    "analysis = agent.analyze_workflow(workflow_name)\n",
    "\n",
    "if analysis:\n",
    "    print(f\"Workflow: {analysis['name']}\")\n",
    "    print(f\"WDL Path: {analysis['wdl_path']}\")\n",
    "    print(f\"\\nInputs ({len(analysis['inputs'])}):\\n\")\n",
    "    for inp in analysis['inputs'][:5]:  # Show first 5 inputs\n",
    "        print(f\"  - {inp['name']}: {inp['type']}\")\n",
    "    print(f\"\\nOutputs ({len(analysis['outputs'])}):\\n\")\n",
    "    for out in analysis['outputs'][:5]:  # Show first 5 outputs\n",
    "        print(f\"  - {out['name']}: {out['type']}\")\n",
    "    print(f\"\\nTasks: {', '.join(analysis['tasks'][:5])}...\")"
   ]
  },
  {
   "cell_type": "markdown",
   "metadata": {},
   "source": [
    "## 3. Interactive Chat Interface"
   ]
  },
  {
   "cell_type": "code",
   "execution_count": null,
   "metadata": {},
   "outputs": [],
   "source": [
    "# Initialize chat agent\n",
    "chat_agent = SVAgentChat()\n",
    "\n",
    "# Ask a question programmatically\n",
    "questions = [\n",
    "    \"What coverage depth do I need for reliable SV detection?\",\n",
    "    \"What are the main steps in Module00a?\",\n",
    "    \"How does GATK-SV handle complex structural variants?\"\n",
    "]\n",
    "\n",
    "for question in questions:\n",
    "    print(f\"\\n**Q: {question}**\")\n",
    "    response = chat_agent.ask(question)\n",
    "    print(f\"A: {response}\")\n",
    "    print(\"-\" * 80)"
   ]
  },
  {
   "cell_type": "markdown",
   "metadata": {},
   "source": [
    "## 4. Create Batch Configuration"
   ]
  },
  {
   "cell_type": "code",
   "execution_count": null,
   "metadata": {},
   "outputs": [],
   "source": [
    "# Create a batch configuration for processing\n",
    "batch_config = {\n",
    "    \"samples\": [\n",
    "        {\n",
    "            \"id\": \"sample1\",\n",
    "            \"bam\": \"/path/to/sample1.bam\",\n",
    "            \"bai\": \"/path/to/sample1.bam.bai\"\n",
    "        },\n",
    "        {\n",
    "            \"id\": \"sample2\",\n",
    "            \"bam\": \"/path/to/sample2.bam\",\n",
    "            \"bai\": \"/path/to/sample2.bam.bai\"\n",
    "        }\n",
    "    ],\n",
    "    \"reference\": \"/path/to/reference.fa\",\n",
    "    \"output_dir\": \"/path/to/output\",\n",
    "    \"modules\": [\"GatherSampleEvidence\", \"EvidenceQC\"]\n",
    "}\n",
    "\n",
    "# Save configuration\n",
    "config_path = \"batch_config.json\"\n",
    "with open(config_path, 'w') as f:\n",
    "    json.dump(batch_config, f, indent=2)\n",
    "\n",
    "print(f\"Batch configuration saved to: {config_path}\")\n",
    "print(json.dumps(batch_config, indent=2))"
   ]
  },
  {
   "cell_type": "markdown",
   "metadata": {},
   "source": [
    "## 5. Process Batch with Configuration"
   ]
  },
  {
   "cell_type": "code",
   "execution_count": null,
   "metadata": {},
   "outputs": [],
   "source": [
    "# Process the batch configuration\n",
    "try:\n",
    "    batch_results = agent.process_batch(config_path)\n",
    "    print(f\"Processed {len(batch_results['conversions'])} modules\")\n",
    "    print(f\"Output directory: {batch_results['output_dir']}\")\n",
    "except Exception as e:\n",
    "    print(f\"Note: Batch processing requires valid file paths. Error: {e}\")"
   ]
  },
  {
   "cell_type": "markdown",
   "metadata": {},
   "source": [
    "## 6. List Available Modules"
   ]
  },
  {
   "cell_type": "code",
   "execution_count": null,
   "metadata": {},
   "outputs": [],
   "source": [
    "# Get knowledge base\n",
    "kb = SVKnowledgeBase()\n",
    "\n",
    "# List all available modules\n",
    "print(\"Available GATK-SV Modules:\\n\")\n",
    "for module, info in kb.modules.items():\n",
    "    print(f\"• {module}\")\n",
    "    print(f\"  {info['description']}\")\n",
    "    print(f\"  Category: {info['category']}\")\n",
    "    if info.get('dependencies'):\n",
    "        print(f\"  Dependencies: {', '.join(info['dependencies'])}\")\n",
    "    print()"
   ]
  },
  {
   "cell_type": "markdown",
   "metadata": {},
   "source": [
    "## 7. Using with Ollama (Local LLM)"
   ]
  },
  {
   "cell_type": "code",
   "execution_count": null,
   "metadata": {},
   "outputs": [],
   "source": [
    "# Check if Ollama is available\n",
    "import subprocess\n",
    "\n",
    "try:\n",
    "    result = subprocess.run(['ollama', 'list'], capture_output=True, text=True)\n",
    "    if result.returncode == 0:\n",
    "        print(\"Ollama is installed. Available models:\")\n",
    "        print(result.stdout)\n",
    "        \n",
    "        # Initialize chat with Ollama\n",
    "        ollama_chat = SVAgentChat(llm_provider=\"ollama\", ollama_model=\"gemma:2b\")\n",
    "        response = ollama_chat.ask(\"What is the purpose of Module00a?\")\n",
    "        print(f\"\\nOllama Response: {response}\")\n",
    "    else:\n",
    "        print(\"Ollama is not available\")\n",
    "except FileNotFoundError:\n",
    "    print(\"Ollama is not installed. Install from: https://ollama.ai\")"
   ]
  }
 ],
 "metadata": {
  "kernelspec": {
   "display_name": "Python 3",
   "language": "python",
   "name": "python3"
  },
  "language_info": {
   "codemirror_mode": {
    "name": "ipython",
    "version": 3
   },
   "file_extension": ".py",
   "mimetype": "text/x-python",
   "name": "python",
   "nbconvert_exporter": "python",
   "pygments_lexer": "ipython3",
   "version": "3.9.0"
  }
 },
 "nbformat": 4,
 "nbformat_minor": 4
}